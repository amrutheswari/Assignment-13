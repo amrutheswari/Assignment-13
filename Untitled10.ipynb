{
  "nbformat": 4,
  "nbformat_minor": 0,
  "metadata": {
    "colab": {
      "name": "Untitled10.ipynb",
      "provenance": [],
      "authorship_tag": "ABX9TyN6GGZnBx1p4GoXfHGSp808",
      "include_colab_link": true
    },
    "kernelspec": {
      "name": "python3",
      "display_name": "Python 3"
    }
  },
  "cells": [
    {
      "cell_type": "markdown",
      "metadata": {
        "id": "view-in-github",
        "colab_type": "text"
      },
      "source": [
        "<a href=\"https://colab.research.google.com/github/amrutheswari/Assignment-13/blob/master/Untitled10.ipynb\" target=\"_parent\"><img src=\"https://colab.research.google.com/assets/colab-badge.svg\" alt=\"Open In Colab\"/></a>"
      ]
    },
    {
      "cell_type": "code",
      "metadata": {
        "id": "03mXHKTamp95",
        "colab_type": "code",
        "colab": {}
      },
      "source": [
        "#What is dictionary in Python? Explain with an example\n",
        "dictionaries are another example of a data structure. ...\n",
        " A dictionary in Python is just like a dictionary in the real world. \n",
        " Python Dictionary are defined into two elements Keys and Values. \n",
        " Keys will be a single element. \n",
        " Values can be a list or list within a list, numbers, etc\n",
        " Dict()=dict()\n",
        " Dict={1:\"Amrutheswari\",2:\"python\",3:\"gitam\"}\n",
        " here 1,2,3 are keys with there respective values."
      ],
      "execution_count": 2,
      "outputs": []
    },
    {
      "cell_type": "code",
      "metadata": {
        "id": "ynYef9mFuVM0",
        "colab_type": "code",
        "colab": {
          "base_uri": "https://localhost:8080/",
          "height": 34
        },
        "outputId": "8740ca05-ad5b-4e36-bb42-28fdd2d88bbb"
      },
      "source": [
        "#Write a Python program to sum all the items in a list.\n",
        "List=[11,2,35,40,5]\n",
        "a=sum(List)\n",
        "print(a)"
      ],
      "execution_count": 4,
      "outputs": [
        {
          "output_type": "stream",
          "text": [
            "93\n"
          ],
          "name": "stdout"
        }
      ]
    },
    {
      "cell_type": "code",
      "metadata": {
        "id": "fxOMUg2K4_pP",
        "colab_type": "code",
        "colab": {
          "base_uri": "https://localhost:8080/",
          "height": 34
        },
        "outputId": "af5a499c-54ba-4389-b6e0-8388ea6572d6"
      },
      "source": [
        "#Write a Python program to create a list of empty dictionaries\n",
        "n = 5\n",
        "l = [{} for _ in range(n)]\n",
        "print(l)"
      ],
      "execution_count": 3,
      "outputs": [
        {
          "output_type": "stream",
          "text": [
            "[{}, {}, {}, {}, {}]\n"
          ],
          "name": "stdout"
        }
      ]
    },
    {
      "cell_type": "code",
      "metadata": {
        "id": "MVz3qG9W6kr-",
        "colab_type": "code",
        "colab": {
          "base_uri": "https://localhost:8080/",
          "height": 34
        },
        "outputId": "dcedc300-8bad-49c8-830e-433badeb24f4"
      },
      "source": [
        "#Write a Python program to access dictionary keys element by index.\n",
        "num = {'physics': 80, 'math': 90, 'chemistry': 86}\n",
        "print(list(num)[0])"
      ],
      "execution_count": 5,
      "outputs": [
        {
          "output_type": "stream",
          "text": [
            "physics\n"
          ],
          "name": "stdout"
        }
      ]
    },
    {
      "cell_type": "code",
      "metadata": {
        "id": "2VA5BB6N7k4H",
        "colab_type": "code",
        "colab": {
          "base_uri": "https://localhost:8080/",
          "height": 67
        },
        "outputId": "c39a4171-b0b5-46f8-c667-cac19e29eb82"
      },
      "source": [
        "#Write a Python program to iterate over dictionaries using for loops\n",
        "d = {'Red': 1, 'Green': 2, 'Blue': 3} \n",
        "for color_key, value in d.items():\n",
        "     print(color_key, 'corresponds to ', d[color_key]) "
      ],
      "execution_count": 6,
      "outputs": [
        {
          "output_type": "stream",
          "text": [
            "Red corresponds to  1\n",
            "Green corresponds to  2\n",
            "Blue corresponds to  3\n"
          ],
          "name": "stdout"
        }
      ]
    },
    {
      "cell_type": "code",
      "metadata": {
        "id": "kFKnftWS79z1",
        "colab_type": "code",
        "colab": {
          "base_uri": "https://localhost:8080/",
          "height": 34
        },
        "outputId": "1db8e614-32d0-4335-a7a8-8cfa80fb860b"
      },
      "source": [
        "#Write a Python program to sum all the items in a dictionary.\n",
        "my_dict = {'data1':100,'data2':-54,'data3':247}\n",
        "print(sum(my_dict.values()))"
      ],
      "execution_count": 7,
      "outputs": [
        {
          "output_type": "stream",
          "text": [
            "293\n"
          ],
          "name": "stdout"
        }
      ]
    },
    {
      "cell_type": "code",
      "metadata": {
        "id": "ATmz-b7W8SX1",
        "colab_type": "code",
        "colab": {
          "base_uri": "https://localhost:8080/",
          "height": 34
        },
        "outputId": "295573bb-c5e5-4045-cff0-f4a25a736c11"
      },
      "source": [
        "\"\"\"Write a Python script to concatenate following dictionaries to create a new one Sample Dictionary \n",
        "a. dic1={1:10, 2:20}\n",
        "b. dic2={3:30, 4:40}\n",
        "c. dic3={5:50,6:60}\"\"\"\n",
        "dic1={1:10, 2:20}\n",
        "dic2={3:30, 4:40}\n",
        "dic3={5:50,6:60}\n",
        "dic4 = {}\n",
        "for d in (dic1, dic2, dic3): dic4.update(d)\n",
        "print(dic4)"
      ],
      "execution_count": 13,
      "outputs": [
        {
          "output_type": "stream",
          "text": [
            "{1: 10, 2: 20, 3: 30, 4: 40, 5: 50, 6: 60}\n"
          ],
          "name": "stdout"
        }
      ]
    },
    {
      "cell_type": "code",
      "metadata": {
        "id": "oNN5m-wx97Hz",
        "colab_type": "code",
        "colab": {
          "base_uri": "https://localhost:8080/",
          "height": 34
        },
        "outputId": "cf1459e5-9274-4f98-de7f-9c5c50006ea0"
      },
      "source": [
        "#Write a Python program to create a tuple\n",
        "tuplex = (\"tuple\", False, 3.2, 1)\n",
        "print(tuplex)"
      ],
      "execution_count": 14,
      "outputs": [
        {
          "output_type": "stream",
          "text": [
            "('tuple', False, 3.2, 1)\n"
          ],
          "name": "stdout"
        }
      ]
    },
    {
      "cell_type": "code",
      "metadata": {
        "id": "4QF_N1To-I2L",
        "colab_type": "code",
        "colab": {
          "base_uri": "https://localhost:8080/",
          "height": 34
        },
        "outputId": "b783b424-81c5-4c26-a3c3-6a380fff0742"
      },
      "source": [
        "#Write a Python program to create a tuple with different data types\n",
        "Tuple=(1,\"ammu\",8.56)\n",
        "print(Tuple)"
      ],
      "execution_count": 15,
      "outputs": [
        {
          "output_type": "stream",
          "text": [
            "(1, 'ammu', 8.56)\n"
          ],
          "name": "stdout"
        }
      ]
    },
    {
      "cell_type": "code",
      "metadata": {
        "id": "pQUhZI5Y-nm8",
        "colab_type": "code",
        "colab": {
          "base_uri": "https://localhost:8080/",
          "height": 34
        },
        "outputId": "be6dc042-5877-42bd-92e9-90627a5b8d36"
      },
      "source": [
        "#Write a Python program to convert a tuple to a string\n",
        "tup = ('e', 'x', 'e', 'r', 'c', 'i', 's', 'e', 's')\n",
        "str =  ''.join(tup)\n",
        "print(str)"
      ],
      "execution_count": 16,
      "outputs": [
        {
          "output_type": "stream",
          "text": [
            "exercises\n"
          ],
          "name": "stdout"
        }
      ]
    },
    {
      "cell_type": "code",
      "metadata": {
        "id": "XAZQNasa_91j",
        "colab_type": "code",
        "colab": {
          "base_uri": "https://localhost:8080/",
          "height": 67
        },
        "outputId": "6f913c30-cd5a-4599-91da-283311c12e24"
      },
      "source": [
        "#.Write a Python program to slice a tuple\n",
        "Tuple=(1,2,3,4,5,6,7,8)\n",
        "print(Tuple[4:])\n",
        "print(Tuple[0:4])\n",
        "print(Tuple[-6:-1])"
      ],
      "execution_count": 17,
      "outputs": [
        {
          "output_type": "stream",
          "text": [
            "(5, 6, 7, 8)\n",
            "(1, 2, 3, 4)\n",
            "(3, 4, 5, 6, 7)\n"
          ],
          "name": "stdout"
        }
      ]
    },
    {
      "cell_type": "code",
      "metadata": {
        "id": "AZ7-Dw84Aty7",
        "colab_type": "code",
        "colab": {
          "base_uri": "https://localhost:8080/",
          "height": 50
        },
        "outputId": "c61d9c45-66c8-43ce-b3ae-29283c7ea323"
      },
      "source": [
        "#.Write a Python program to find the length of a tuple.\n",
        "tuplex = tuple(\"gitam\")\n",
        "print(tuplex)\n",
        "print(len(tuplex))"
      ],
      "execution_count": 19,
      "outputs": [
        {
          "output_type": "stream",
          "text": [
            "('g', 'i', 't', 'a', 'm')\n",
            "5\n"
          ],
          "name": "stdout"
        }
      ]
    },
    {
      "cell_type": "code",
      "metadata": {
        "id": "BTyr7IwXA_c2",
        "colab_type": "code",
        "colab": {
          "base_uri": "https://localhost:8080/",
          "height": 34
        },
        "outputId": "c04c7bb6-0335-48ea-ffdb-13b9283e9983"
      },
      "source": [
        "#Write a Python program to convert a tuple to a dictionary\n",
        "tuplex = ((2, \"w\"),(3, \"r\"))\n",
        "print(dict((y, x) for x, y in tuplex))"
      ],
      "execution_count": 20,
      "outputs": [
        {
          "output_type": "stream",
          "text": [
            "{'w': 2, 'r': 3}\n"
          ],
          "name": "stdout"
        }
      ]
    },
    {
      "cell_type": "code",
      "metadata": {
        "id": "Lk3n4dV_B1HJ",
        "colab_type": "code",
        "colab": {
          "base_uri": "https://localhost:8080/",
          "height": 50
        },
        "outputId": "c403091c-f5fb-4e8d-963a-219cc23a35f1"
      },
      "source": [
        "#Write a Python program to reverse a tuple\n",
        "x = (\"gitam\")\n",
        "y = reversed(x)\n",
        "print(tuple(y))\n",
        "x = (5, 10, 15, 20)\n",
        "y = reversed(x)\n",
        "print(tuple(y))\n"
      ],
      "execution_count": 21,
      "outputs": [
        {
          "output_type": "stream",
          "text": [
            "('m', 'a', 't', 'i', 'g')\n",
            "(20, 15, 10, 5)\n"
          ],
          "name": "stdout"
        }
      ]
    },
    {
      "cell_type": "code",
      "metadata": {
        "id": "YqWwN1UACNEq",
        "colab_type": "code",
        "colab": {
          "base_uri": "https://localhost:8080/",
          "height": 34
        },
        "outputId": "5b05fba6-df66-483e-de52-8cc836bd15a4"
      },
      "source": [
        "#Write a Python program to convert a list of tuples into a dictionary\n",
        "l = [(\"x\", 1), (\"x\", 2), (\"x\", 3), (\"y\", 1), (\"y\", 2), (\"z\", 1)]\n",
        "d = {}\n",
        "for a, b in l:\n",
        "    d.setdefault(a, []).append(b)\n",
        "print (d)"
      ],
      "execution_count": 22,
      "outputs": [
        {
          "output_type": "stream",
          "text": [
            "{'x': [1, 2, 3], 'y': [1, 2], 'z': [1]}\n"
          ],
          "name": "stdout"
        }
      ]
    },
    {
      "cell_type": "code",
      "metadata": {
        "id": "cAud1YUGCXY0",
        "colab_type": "code",
        "colab": {
          "base_uri": "https://localhost:8080/",
          "height": 50
        },
        "outputId": "e4b45904-fa6c-4107-ef99-4315874c55fc"
      },
      "source": [
        "#Write a Python program to convert a list to a tuple\n",
        "listx = [5, 10, 7, 4, 15, 3]\n",
        "print(listx)\n",
        "tuplex = tuple(listx)\n",
        "print(tuplex)"
      ],
      "execution_count": 23,
      "outputs": [
        {
          "output_type": "stream",
          "text": [
            "[5, 10, 7, 4, 15, 3]\n",
            "(5, 10, 7, 4, 15, 3)\n"
          ],
          "name": "stdout"
        }
      ]
    }
  ]
}